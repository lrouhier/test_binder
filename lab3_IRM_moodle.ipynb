{
 "cells": [
  {
   "cell_type": "markdown",
   "metadata": {},
   "source": [
    "## Partie I : Concepts d'imagerie"
   ]
  },
  {
   "cell_type": "markdown",
   "metadata": {},
   "source": [
    "<div class=\"alert alert-block alert-info\">\n",
    "    \n",
    "#### 1. Lecture de l’image DICOM\n",
    "Les images issues du scanner IRM sont sous format DICOM (extension .dcm). Les fichiers\n",
    "DICOM permettent d’encoder de façon uniforme certains types d’information, notamment les\n",
    "images, et de cacher des informations propriétaires spécifiques au scanner. L’usager n’a en\n",
    "général accès qu’aux données publiques. Une image 3D est sauvegardée sous plusieurs\n",
    "tranches, chacune sauvegardée dans un fichier séparé à l’extension ‘.dcm’. Dans Matlab, les\n",
    "fichiers sont lus par les commandes suivantes : <br>\n",
    "<b>Lecture de l’information d’un fichier DICOM appelé image.dcm </b> :<br>\n",
    "info = dicominfo ('image.dcm');<br>\n",
    "<b>Lecture de l’image contenue dans le fichier DICOM </b>:<br>\n",
    "info = dicomread ('image.dcm');<br>\n",
    "    </div>"
   ]
  },
  {
   "cell_type": "markdown",
   "metadata": {},
   "source": [
    "<div class=\"alert alert-block alert-warning\">\n",
    "1.1. À partir des informations et du fichier : FourierTransform_Test01-03-0011.dcm , répondez au 2 questions suivantes<br>\n",
    "\n",
    "    \n",
    " Vous pouvez utiliser la méthode 1pt<br>\n"
   ]
  },
  {
   "cell_type": "code",
   "execution_count": null,
   "metadata": {},
   "outputs": [],
   "source": [
    "#addpath('C:\\Users\\Lucas\\Lab_3_correction\\qMRLab-master')"
   ]
  },
  {
   "cell_type": "code",
   "execution_count": null,
   "metadata": {},
   "outputs": [],
   "source": [
    "import nibabel as nib\n",
    "import pydicom as pycd\n",
    "import matplotlib.pyplot as plt\n",
    "import dicom\n",
    "from numpy.fft import *\n",
    "from numpy import matlib as mb\n",
    "import numpy as np\n",
    "import copy as c"
   ]
  },
  {
   "cell_type": "code",
   "execution_count": null,
   "metadata": {},
   "outputs": [],
   "source": [
    "# test=dicom.read_file('Concepts_dimagerie/FourierTransform_Test01-03-0011.dcm',force=True)\n",
    "test=dicom.read_file('Concepts_dimagerie/FourierTransform_Test01-03-0011.dcm',force=True)\n",
    "image=test.pixel_array\n"
   ]
  },
  {
   "cell_type": "markdown",
   "metadata": {},
   "source": [
    "<div class=\"alert alert-block alert-warning\">\n",
    "\n",
    "A) Quelle est la largeur de la coupe (en z) ? Quelle est l'unité ? 1pt\n",
    "    \n",
    "Tips: exécutez l'objet \"test\" et vous verrez apparaitre la liste des champs DICOM. Sélectionner ensuite le champ pertinent:\n",
    "\n",
    "\n",
    "<code>test.CHAMP_PERTINENT</code>\n",
    "\n",
    "</div>"
   ]
  },
  {
   "cell_type": "code",
   "execution_count": null,
   "metadata": {},
   "outputs": [],
   "source": []
  },
  {
   "cell_type": "markdown",
   "metadata": {},
   "source": [
    "<div class=\"alert alert-block alert-success\">\n",
    "    \n",
    "**double click here to add your answer**\n",
    "\n",
    "</div>"
   ]
  },
  {
   "cell_type": "markdown",
   "metadata": {},
   "source": [
    "<div class=\"alert alert-block alert-warning\">\n",
    "\n",
    "B) Étant donné que nous imageons des protons et que le champ est de 3 Tesla, estimez\n",
    "approximativement la valeur du gradient magnétique qui est imposé en z pour former une\n",
    "tranche de cette largeur si nous supposons que la largeur de bande de l’impulsion RF est\n",
    "de 1kHz? 2pts<br>\n",
    "</div>"
   ]
  },
  {
   "cell_type": "code",
   "execution_count": null,
   "metadata": {},
   "outputs": [],
   "source": [
    "# Utilisez cette cellule pour effectuer vos calculs"
   ]
  },
  {
   "cell_type": "markdown",
   "metadata": {},
   "source": [
    "<div class=\"alert alert-block alert-success\">\n",
    "    \n",
    "**double click here to add your answer**\n",
    "\n",
    "</div>\n"
   ]
  },
  {
   "cell_type": "markdown",
   "metadata": {},
   "source": [
    "<div class=\"alert alert-block alert-info\">\n",
    "    \n",
    "#### 2. Analyse de Fourier <br>\n",
    "Rappelons que le signal acquis en IRM est en fait la transformée de Fourier de l’image (voir les équations 13.46 et 13.47 du livre de Prince & Links). L’image du cerveau qu’on affiche est donc la transformée inverse des données.<br>\n",
    "    \n",
    "Le fichier <code>FourierTransform_Test01-03-0011.dcm</code> contient une image (reconstruite) d'une tranche. Le code ci-dessous permet d'afficher l'image de magnitude et de phase.\n",
    "</div>"
   ]
  },
  {
   "cell_type": "code",
   "execution_count": null,
   "metadata": {},
   "outputs": [],
   "source": [
    "phase = dicom.read_file('Concepts_dimagerie/FourierTransform_Test01-04-0011.dcm',force=True)\n",
    "imagephase = phase.pixel_array\n",
    "\n",
    "#Display\n",
    "plt.figure(figsize=(10,10))\n",
    "plt.subplot(1,2,1)\n",
    "plt.imshow(image)\n",
    "plt.title('image reconstruire')\n",
    "plt.subplot(1,2,2)\n",
    "plt.imshow(imagephase,cmap=\"jet\")\n",
    "plt.title('données de phase')\n",
    "plt.show()"
   ]
  },
  {
   "cell_type": "markdown",
   "metadata": {},
   "source": [
    "<div class=\"alert alert-block alert-info\">\n",
    " Les limitations d’acquisition liées au phénomène de Nyquist s’opèrent ici dans l’espace\n",
    "des fréquences spatiales. Pour étudier ce phénomène suivez les instructions ci dessous :<br>\n",
    "● Faites la transformée de Fourier 2D de l’image ci-haut\n",
    "(provenant du fichier FourierTransform_Test01-03-0011.dcm ).<br>\n",
    "● Sous-échantillonnez cette transformée par un facteur 2 selon les deux axes (u et v).\n",
    "Pour conserver la taille de la matrice, faites cela en remplaçant un élément sur deux\n",
    "par 0 dans la transformée de Fourier.<br>\n",
    "● Faites la transformée inverse.<br>\n",
    "</div>"
   ]
  },
  {
   "cell_type": "markdown",
   "metadata": {},
   "source": [
    "<div class=\"alert alert-block alert-warning\">\n",
    "2.2.Illustrez l’image ainsi obtenue. Comparez-la avec l’image originale. Expliquez le\n",
    "phénomène observé et sa cause. 3pts\n",
    "    </div>"
   ]
  },
  {
   "cell_type": "code",
   "execution_count": null,
   "metadata": {},
   "outputs": [],
   "source": [
    "\n",
    "plt.figure(4,figsize=(10,10))\n",
    "plt.imshow(imagese)\n",
    "plt.title('Sous-échantillonner, matrice de même taille')"
   ]
  },
  {
   "cell_type": "markdown",
   "metadata": {},
   "source": [
    "<div class=\"alert alert-block alert-warning\">\n",
    "Recommencez avec l’image originale, faites sa transformée de Fourier 2D.<br>\n",
    "● Sous-échantillonnez cette transformée par un facteur 2 selon les deux axes (u et v).<br>\n",
    "Cette fois-ci, retirez un élément sur deux (en u et v, donc 1 ligne sur 2 et 1 colonne\n",
    "sur 2). Vous diminuerez donc de moitié la taille de votre matrice dans chaque\n",
    "dimension.<br>\n",
    "● Faites la transformée inverse.<br>\n",
    "Illustrez l’image ainsi obtenue. Comparez-la avec l’image originale. Comparez-la avec\n",
    "l’image reconstruite à la partie précédemment. Expliquez la différence et sa cause. 3pts\n",
    "  </div>"
   ]
  },
  {
   "cell_type": "code",
   "execution_count": null,
   "metadata": {},
   "outputs": [],
   "source": [
    "\n",
    "plt.figure(6,figsize=(4,4))\n",
    "plt.imshow(imagesd)\n",
    "plt.title('Sous-échantillonner, matrice de taille réduite')"
   ]
  },
  {
   "cell_type": "markdown",
   "metadata": {},
   "source": [
    "<div class=\"alert alert-block alert-success\">\n",
    "    \n",
    "**double click here to add your answer**\n",
    "\n",
    "</div>"
   ]
  },
  {
   "cell_type": "markdown",
   "metadata": {},
   "source": [
    "<div class=\"alert alert-block alert-warning\">\n",
    "2.3. L’acquisition dans l’espace Fourier a aussi un impact sur les facteurs qui déterminent la\n",
    "qualité de l’image.<br>\n",
    "A) Quels sont les facteurs physiques limitant la résolution spatiale ? 1.5pts<br>\n",
    "B) Quels sont les facteurs d’instrumentation qui limitent la résolution spatiale ? 1.5pts<br>\n",
    "    </div>"
   ]
  },
  {
   "cell_type": "markdown",
   "metadata": {},
   "source": [
    "<div class=\"alert alert-block alert-success\">\n",
    "    \n",
    "**double click here to add your answer**\n",
    "\n",
    "</div>"
   ]
  },
  {
   "cell_type": "markdown",
   "metadata": {},
   "source": [
    "<div class=\"alert alert-block alert-info\">\n",
    "  \n",
    "#### 3. Artéfacts\n",
    "Cette section a pour but de vous faire simuler 2 artéfacts qui peuvent survenir de manière assez\n",
    "fréquente lors de l’acquisition d’une image par résonance magnétique : « spiking » et\n",
    "mouvement.<br></div>\n",
    "<div class=\"alert alert-block alert-warning\">\n",
    "3.1. Spiking. À partir de l’image reconstruite provenant du fichier :\n",
    "FourierTransform_Test01-03-0011.dcm <br>\n",
    "Décrivez une procédure permettant de simuler un artéfact « spiking » à partir d’une\n",
    "image déjà reconstruite. Comment cet artéfact affecte-t-il l’image finale ? 1.5pts <br>\n",
    "\n",
    "</div>"
   ]
  },
  {
   "cell_type": "markdown",
   "metadata": {},
   "source": [
    "<div class=\"alert alert-block alert-success\">\n",
    "    \n",
    "**double click here to add your answer**\n",
    "\n",
    "</div>"
   ]
  },
  {
   "cell_type": "markdown",
   "metadata": {},
   "source": [
    "<div class=\"alert alert-block alert-warning\">\n",
    "    3.2 Implémentez cette procédure et testez quelques fréquences parasites différentes de\n",
    "manière à illustrer les différents effets possibles. 1.5pts\n",
    "    </div>\n"
   ]
  },
  {
   "cell_type": "code",
   "execution_count": null,
   "metadata": {},
   "outputs": [],
   "source": [
    "\n",
    "\n",
    "#Display\n",
    "plt.figure(figsize=(20,20))\n",
    "plt.subplot(4,2,1)\n",
    "plt.imshow(np.log(abs(ks)))\n",
    "plt.title('original kspace')\n",
    "plt.subplot(4,2,2)\n",
    "plt.imshow(abs(image))\n",
    "plt.title('original image')\n",
    "plt.subplot(4,2,3)\n",
    "plt.imshow(np.log(abs(ks_zip1)))\n",
    "plt.title('kspace zip1')\n",
    "plt.subplot(4,2,4)\n",
    "plt.imshow(abs(rs_zip1))\n",
    "plt.title('rspace zip1')\n",
    "plt.subplot(4,2,5)\n",
    "plt.imshow(np.log(abs(ks_zip2)))\n",
    "plt.title('kspace zip2')\n",
    "plt.subplot(4,2,6)\n",
    "plt.imshow(abs(rs_zip2))\n",
    "plt.title('rspace zip2')\n",
    "plt.subplot(4,2,7)\n",
    "plt.imshow(np.log(abs(ks_zip3)))\n",
    "plt.title('kspace zip3')\n",
    "plt.subplot(4,2,8)\n",
    "plt.imshow(abs(rs_zip3))\n",
    "plt.title('rspace zip3')\n",
    "plt.show()"
   ]
  },
  {
   "cell_type": "markdown",
   "metadata": {},
   "source": [
    "<div class=\"alert alert-block alert-warning\">\n",
    "3.3. Mouvement. Toujours à partir de l’image reconstruite provenant du fichier :\n",
    "FourierTransform_Test01-03-0011.dcm <br>\n",
    "Observez l’impact d’un mouvement sur le signal mesuré, c’est-à-dire sur le k-space. 2pts\n",
    "Pour cela :<br>\n",
    "a. Décalez votre image de 10 pixels (fonction circshift).<br>\n",
    "b. Calculez le k-space de l’image originale et de l’image décallée<br>\n",
    "c. Observez-vous une différence sur la magnitude du k-space? Sur la phase du\n",
    "k-space? Commentez (indiquez aussi pourquoi la phase du k-space est en « arc\n",
    "en ciel »).<br>\n",
    "    </div>"
   ]
  },
  {
   "cell_type": "code",
   "execution_count": null,
   "metadata": {},
   "outputs": [],
   "source": [
    "image_raw = c.deepcopy(image)\n",
    "image_mv = np.roll(image_raw,10,axis=1);\n",
    "plt.figure\n",
    "plt.subplot(1,2,1); \n",
    "plt.imshow(image_raw)\n",
    "plt.title('original image')\n",
    "plt.subplot(1,2,2)\n",
    "plt.imshow(image)\n",
    "plt.title('moved image')\n",
    "\n",
    "ks_raw=fftshift(ifft2(image_raw));\n",
    "ks_mv=fftshift(ifft2(image_mv));\n",
    "plt.figure(figsize=(20,20))\n",
    "plt.subplot(2,2,1)\n",
    "plt.imshow(np.log(abs(ks_raw))) \n",
    "plt.colorbar; \n",
    "plt.title('abs original kspace')\n",
    "plt.subplot(2,2,3)\n",
    "plt.imshow(np.angle(ks_raw)); \n",
    "plt.title('angle original kspace')\n",
    "plt.subplot(2,2,2)\n",
    "plt.imshow(np.log(abs(ks_mv)))\n",
    "plt.colorbar; \n",
    "plt.title('abs moved kspace')\n",
    "plt.subplot(2,2,4)\n",
    "plt.imshow(np.angle(ks_mv)); \n",
    "plt.title('angle original kspace')\n",
    "plt.show()\n",
    "plt.figure(figsize=(10,5))\n",
    "plt.subplot(121)\n",
    "plt.imshow(np.log(abs(ks_raw))-np.log(abs(ks_mv)))\n",
    "plt.subplot(122)\n",
    "plt.imshow(np.angle(ks_raw)-np.angle(ks_mv))\n",
    "plt.show()"
   ]
  },
  {
   "cell_type": "markdown",
   "metadata": {},
   "source": [
    "<div class=\"alert alert-block alert-success\">\n",
    "    \n",
    "**double click here to add your answer**\n",
    "\n",
    "</div>"
   ]
  },
  {
   "cell_type": "markdown",
   "metadata": {},
   "source": [
    "<div class=\"alert alert-block alert-warning\">\n",
    "3.3 Décrivez une procédure permettant de simuler un artéfact correspondant à un\n",
    "mouvement global du patient en cours d’acquisition. 1pt\n",
    "    </div>"
   ]
  },
  {
   "cell_type": "markdown",
   "metadata": {},
   "source": [
    "<div class=\"alert alert-block alert-success\">\n",
    "    \n",
    "**double click here to add your answer**\n",
    "\n",
    "</div>"
   ]
  },
  {
   "cell_type": "markdown",
   "metadata": {},
   "source": [
    "<div class=\"alert alert-block alert-warning\">\n",
    "  3.4 Implémentez cette procédure pour un mouvement de 10 pixels dans la direction de votre\n",
    "choix. Considérez deux cas : (i) la deuxième moitié du kspace est affectée par le\n",
    "mouvement et (ii) une ligne du kspace sur deux est affectée par le mouvement.<br>\n",
    "Expliquez vos résultats. (Bonus: +2pts)\n",
    "    </div>\n"
   ]
  },
  {
   "cell_type": "code",
   "execution_count": null,
   "metadata": {},
   "outputs": [],
   "source": [
    "# half k-space\n",
    "\n",
    "plt.figure\n",
    "plt.imshow(abs((fft2(ks_out)))); \n",
    "plt.title('one line over 2')\n",
    "plt.show()"
   ]
  },
  {
   "cell_type": "markdown",
   "metadata": {},
   "source": [
    "## Partie II : IRM anatomique"
   ]
  },
  {
   "cell_type": "markdown",
   "metadata": {},
   "source": [
    "<div class=\"alert alert-block alert-info\">\n",
    "    \n",
    "#### 4. Étude de l'image anatomique \n",
    "D'autres formats d'images sont souvent utilisés en IRM, par exemple le format NIfTI (.nii).\n",
    "Charger l’image anatomique structural.nii en utilisant load_nii.<br> \n",
    "</div>\n",
    "<div class=\"alert alert-block alert-warning\">\n",
    "\n",
    "4.1. Il s’agit d’une image à 3 dimensions. Quelle est le nombre de voxels dans chacune des\n",
    "dimensions ? Quelle est la taille de chaque voxel (en mm) ? Indice : regarder la\n",
    "structure de pixdim dans nii.header 1pt\n",
    "    </div>"
   ]
  },
  {
   "cell_type": "code",
   "execution_count": null,
   "metadata": {},
   "outputs": [],
   "source": [
    "nii = nib.load('Anatomique/structural.nii');\n",
    "image_nif=np.array(nii.dataobj)\n",
    "[nx,ny,nz] = image_nif.shape\n",
    "voxel_size = nii.header\n",
    "print(voxel_size)"
   ]
  },
  {
   "cell_type": "markdown",
   "metadata": {},
   "source": [
    "<div class=\"alert alert-block alert-success\">\n",
    "    \n",
    "**double click here to add your answer**\n",
    "\n",
    "</div>"
   ]
  },
  {
   "cell_type": "markdown",
   "metadata": {},
   "source": [
    "<div class=\"alert alert-block alert-info\">\n",
    "Visualiser l’image en utilisant view_nii. Cette image a été prise avec une séquence 3D de type\n",
    "écho de gradient ( gradient echo ). Le TR est très faible, il s’agit donc d’une image pondérée en\n",
    "T1. Un pulse d’inversion-récupération prépare les spins afin d’augmenter le contraste\n",
    "(suppression du liquide cérébrospinal). Le nom de cette séquence est « MPRAGE ».\n",
    "Centrer la vue aux coordonnées (119, 109, 79).<br>\n",
    "    </div>\n",
    "    <div class=\"alert alert-block alert-warning\">\n",
    "4.2. Faire une capture d'écran (screenshot ) de la vue axiale (seulement la vue axiale).\n",
    "Quelle est cette structure noire située aux coordonnées (119, 109, 79) ? Quelle stratégie\n",
    "a permis d’annuler le signal pour cette structure ? 2pts<br>\n",
    "4.3. A quoi correspond le petit blob gris aux coordonnées (74,193,79) ? 2pts<br>\n",
    "4.4. Observez la structure très brillante aux coordonnées (130,119,51) ? Il s’agit de l’artère\n",
    "basilaire (mis en évidence dans FourierTransform_Test01-15-0001.dcm ). Pourquoi le\n",
    "signal de celle-ci n’a pas été supprimé comme pour 4.2? 2pts<br>\n",
    "3\n",
    "    </div>"
   ]
  },
  {
   "cell_type": "markdown",
   "metadata": {},
   "source": [
    "Utiliser les barres glissante pour vous déplacer entre les tranches. Cela changera quand vous relacherez le click. Sinon, après avoir cliquer sur une des barre glissant vous pouvez vous deplacer selon cette axe (x, y ou z) a l'aide des fleches de votre clavier "
   ]
  },
  {
   "cell_type": "markdown",
   "metadata": {},
   "source": [
    "<html>\n",
    "\n",
    "<head>\n",
    "</head>\n",
    "<body onload=\"create()\">\n",
    "  <div id=\"div_viewer\">\n",
    "    <canvas id=\"3Dviewer\"> <!-- this is the canvas that will feature the brain slices -->\n",
    "    <img id=\"spriteImg\" class=\"hidden\" src=\"sprite.jpg\"> <!-- load a hidden version of the sprite image that includes all (sagital) brain slices -->\n",
    "  </div>\n",
    "  \n",
    "\n",
    "  <!-- JQuery is used in this example, line 18, but is not actually used in brainsprite.js -->\n",
    "  <script type=\"text/javascript\" src=\"brainsprite.js/brainsprite.min.js\"></script>\n",
    "\n",
    "\n",
    "  <script>\n",
    "\n",
    "  // On load: build all figures\n",
    "  function create() {\n",
    "    // Create brain slices\n",
    "    var brain = brainsprite({\n",
    "      canvas: \"3Dviewer\", // That is the ID of the canvas to build slices into\n",
    "      sprite: \"spriteImg\", // That is the ID of the sprite image that includes all (sagital) brain slices\n",
    "      nbSlice: { 'Y':233 , 'Z':189 }\n",
    "    });\n",
    "  };\n",
    "  </script>\n",
    "</body>\n",
    "</html>"
   ]
  },
  {
   "cell_type": "code",
   "execution_count": null,
   "metadata": {
    "scrolled": false
   },
   "outputs": [],
   "source": [
    "from niwidgets import NiftiWidget\n",
    "import nilearn.plotting as nip\n",
    "%matplotlib inline\n",
    "my_widget = NiftiWidget('Anatomique/structural.nii')\n",
    "my_widget.nifti_plotter(plotting_func=nip.plot_epi, display_mode=['ortho', 'x', 'y', 'z', 'yx', 'xz', 'yz'])\n",
    "\n",
    "#  CHECK: https://www.npmjs.com/package/brainsprite.js"
   ]
  },
  {
   "cell_type": "markdown",
   "metadata": {},
   "source": [
    "<div class=\"alert alert-block alert-success\">\n",
    "    \n",
    "**double click here to add your answer**\n",
    "\n",
    "</div>"
   ]
  },
  {
   "cell_type": "markdown",
   "metadata": {},
   "source": [
    "## Partie III : IRM fonctionnelle (IRMf ou fMRI)"
   ]
  },
  {
   "cell_type": "markdown",
   "metadata": {},
   "source": [
    "<div class=\"alert alert-block alert-info\">\n",
    "    \n",
    "#### 5. Étude des images fonctionnelles\n",
    "Nous allons étudier l'image fmri.nii<br>\n",
    "La particularité de ce fichier est qu’il s’agit d’une image 4D (versus 3D pour l’image anatomique).\n",
    "Les dimensions (x,y,z,t) de l’image sont : 64×64×21×180. Cela implique qu’il y a 180 volumes 3D,\n",
    "un volume étant mesuré toutes les TR secondes. Ici, le temps de répétition TR = 3 secondes .<br>\n",
    "La séquence utilisée pour acquérir ces volumes est une séquence en écho de gradient, pondérée\n",
    "en T 2 \\*, utilisant la technique echo planar imaging (EPI). L’intérêt d’utiliser la technique EPI est\n",
    "d’obtenir un volume du cerveau complet très rapidement. Ici, chaque volume est acquis en\n",
    "seulement 3 secondes !! Par comparaison, le volume anatomique précédent a été acquis en 5\n",
    "minutes. Bien sûr, la qualité d’image est moindre.<br></div>\n",
    "<div class=\"alert alert-block alert-warning\">\n",
    "    Charger l’image fmri.nii . <br>\n",
    "5.1. Citer deux caractéristiques montrant que la qualité des images EPI est inférieure à celle\n",
    "de l’image anatomique. Vous pouvez par exemple comparer l’image anatomique avec\n",
    "celle d'EPI et montrer la présence d’artefacts (préciser le type d’artefact). 3pts<br>\n",
    "    </div>"
   ]
  },
  {
   "cell_type": "code",
   "execution_count": null,
   "metadata": {},
   "outputs": [],
   "source": [
    "import nibabel as nib\n",
    "nii_fmri = nib.load('fmri/fmri.nii');\n",
    "image_fmri=np.array(nii_fmri.dataobj)\n",
    "[nx,ny,nz,nt] = np.array(nii_fmri.dataobj).shape;\n",
    "my_widget = NiftiWidget('fmri/fmri.nii')\n",
    "my_widget.nifti_plotter()\n",
    "\n",
    "# CHECK POSSIBILITY TO DISPLAY TIME COURSE"
   ]
  },
  {
   "cell_type": "markdown",
   "metadata": {},
   "source": [
    "<div class=\"alert alert-block alert-success\">\n",
    "    \n",
    "**double click here to add your answer**\n",
    "\n",
    "</div>"
   ]
  },
  {
   "cell_type": "markdown",
   "metadata": {},
   "source": [
    "<div class=\"alert alert-block alert-info\">\n",
    "L’utilité d’acquérir autant de volumes à la suite est de tester la présence d’une activité neuronale\n",
    "lorsqu’une tache motrice, sensorielle ou cognitive est effectuée par le sujet pendant l’acquisition.\n",
    "Cette expérience s’appelle IRM fonctionnelle . La beauté de cette technique est qu’elle permet\n",
    "de localiser spatialement l’origine de l’activité neuronale. La précision de cette localisation\n",
    "dépend donc de la résolution spatiale des volumes EPI (ici, 4×4×6 mm 3 ). <br>\n",
    "La façon de procéder est la suivante. Pendant l’acquisition des nombreux volumes, le sujet est\n",
    "soumis à une activité fonctionnelle (passive ou active). On appelle cette période « ON ». Durant\n",
    "ces périodes, l'activation des neurones suscite un afflux sanguin qui influence le signal IRMf\n",
    "localement, dans la région activée du cerveau. Afin de pouvoir discriminer l’impact des périodes\n",
    "ON sur les images, Il est important d’avoir aussi des périodes dites « OFF », pendant lesquelles\n",
    "le sujet est au repos et ne subit aucune activité contrôlée. La succession des périodes ON et\n",
    "OFF correspond au « paradigme » de l’expérience IRMf. <br>\n",
    "En premier lieu, familiarisons-nous avec le concept de données IRM 4D.\n",
    "    </div>"
   ]
  },
  {
   "cell_type": "markdown",
   "metadata": {},
   "source": [
    "<div class=\"alert alert-block alert-warning\">\n",
    "5.2. Extraire le décours temporel ( time course ) des voxels suivants : <br>\n",
    "[34,34,18]<br>\n",
    "[26,14,8]<br>\n",
    "[34,34,13]<br>\n",
    "[44,26,9]<br>\n",
    "[30,52,10]<br>\n",
    "[44,18,11]<br>\n",
    "Afficher les décours sur le même plot. Ne pas oublier les unités1. Quel est le voxel où\n",
    "l’activité neuronale semble avoir lieu ? 2pts<br>\n",
    "    </div>"
   ]
  },
  {
   "cell_type": "code",
   "execution_count": null,
   "metadata": {},
   "outputs": [],
   "source": [
    "TR=3;\n",
    "t=[i for i in range(1,(nt-1)*TR,TR)]\n",
    "\n",
    "plt.figure(figsize=(20,20))\n",
    "plt.subplot(3,2,1); plt.plot(t,np.squeeze(image_fmri[34,34,18,:-1]));\n",
    "plt.subplot(3,2,2); plt.plot(t,np.squeeze(image_fmri[26,14,8,:-1])); \n",
    "plt.subplot(3,2,3); plt.plot(t,np.squeeze(image_fmri[34,34,13,:-1])); \n",
    "plt.subplot(3,2,4); plt.plot(t,np.squeeze(image_fmri[44,26,9,:-1])); \n",
    "plt.subplot(3,2,5); plt.plot(t,np.squeeze(image_fmri[30,52,10,:-1])); \n",
    "plt.subplot(3,2,6); plt.plot(t,np.squeeze(image_fmri[44,18,11,:-1]));"
   ]
  },
  {
   "cell_type": "markdown",
   "metadata": {},
   "source": [
    "<div class=\"alert alert-block alert-danger\">\n",
    "Il est souvent utile de travailler avec le volume moyen EPI, correspondant à la moyenne de tous\n",
    "les volumes EPI 3D dans le temps.<br>\n",
    "Faire la moyenne des données IRMf dans la dimension temporelle\n",
    "(data_mean=mean(nii.img,4)) afin de générer le volume EPI moyen. Pour l’afficher:<br>\n",
    "➢ nii=make_nii(data_mean); <br>\n",
    "➢ view_nii(nii)<br>\n",
    "    </div>"
   ]
  },
  {
   "cell_type": "markdown",
   "metadata": {},
   "source": [
    "Utiliser les barres glissante pour vous déplacer entre les tranches. Cela changera quand vous relacherez le click. Sinon, après avoir cliquer sur une des barre glissant vous pouvez vous deplacer selon cette axe (x, y ou z) a l'aide des fleches de votre clavier "
   ]
  },
  {
   "cell_type": "code",
   "execution_count": null,
   "metadata": {},
   "outputs": [],
   "source": [
    "\n",
    "img = nib.Nifti1Image(data_mean, np.eye(4),header=nii_fmri.header)\n",
    "#img.header=nii_fmri.header\n",
    "nib.save(img,'fmri/fmri_mean.nii')\n",
    "my_widget = NiftiWidget('fmri/fmri_mean.nii')\n",
    "my_widget.nifti_plotter()"
   ]
  },
  {
   "cell_type": "markdown",
   "metadata": {},
   "source": [
    "<div class=\"alert alert-block alert-warning\">\n",
    "5.3. Trouver N. 1pts\n",
    "    </div>"
   ]
  },
  {
   "cell_type": "code",
   "execution_count": null,
   "metadata": {},
   "outputs": [],
   "source": []
  },
  {
   "cell_type": "markdown",
   "metadata": {},
   "source": [
    "<div class=\"alert alert-block alert-success\">\n",
    "    \n",
    "**double click here to add your answer**\n",
    "\n",
    "</div>"
   ]
  },
  {
   "cell_type": "markdown",
   "metadata": {
    "collapsed": true
   },
   "source": [
    "<div class=\"alert alert-block alert-info\">\n",
    "Nous allons maintenant partir à la recherche de l’activité neuronale... Pour cela, nous souhaitons savoir de façon exhaustive où l’activité neuronale a eu lieu. Nous pourrions continuer la méthode d’identification comme réalisé en 5.2 pour tous les voxels du volume, mais cela reviendrait à identifier manuellement nx × ny × nz voxels, soit 86016 voxels !! Par ailleurs il serait souhaitable d’utiliser une approche davantage ​quantitative que celle utilisée précédemment, qui se basait sur notre jugement. Utilisons notre cerveau pour trouver une façon plus efficace d’étudier le cerveau !\n",
    "Une approche communément utilisée est de construire une carte statistique qui teste, pour\n",
    "chaque voxel, la correspondance temporelle entre le paradigme et le décours temporel. Une\n",
    "façon de faire est de moyenner le signal pendant la période ON et pendant la période OFF, puis\n",
    "de faire la différence entre ces deux moyennes. Cette différence sera ensuite divisée par l’écart\n",
    "type du signal. Cela revient à calculer le rapport contraste à bruit (CNR) de l’activité neuronale\n",
    "2 pour chaque voxel .\n",
    "     </div>"
   ]
  },
  {
   "cell_type": "markdown",
   "metadata": {},
   "source": [
    "<div class=\"alert alert-block alert-warning\">\n",
    "5.4. Reconstruire une carte (valeur à chaque voxel) de CNR de l’activité neuronale. Visualiser la carte d’activation superposée au volume moyen calculé précédemment, à l'aide du code donné ci-dessous. 3pts\n",
    "    </div>"
   ]
  },
  {
   "cell_type": "markdown",
   "metadata": {},
   "source": [
    "<div class=\"alert alert-block alert-danger\">\n",
    "code donné dans le pdf avant :\n",
    "      </div>"
   ]
  },
  {
   "cell_type": "code",
   "execution_count": null,
   "metadata": {},
   "outputs": [],
   "source": []
  },
  {
   "cell_type": "code",
   "execution_count": null,
   "metadata": {},
   "outputs": [],
   "source": [
    "#plot native\n",
    "#code donné\n",
    "# make it single\n",
    "img = nib.Nifti1Image(data_mean, np.eye(4),header=nii_fmri.header)\n",
    "\n",
    "#data_mean_single = make_nii(data_mean,nii_fmri.hdr.dime.pixdim(2:4),nii_fmri.hdr.hist.originator(1:3),16);  \n",
    "#threshold CNR map at 1.5  \n",
    "tstat3d_th = c.deepcopy(tstat3d)\n",
    "mat = tstat3d_th>1.5\n",
    "mat = mat.astype(int)\n",
    "out=np.multiply(tstat3d_th,mat)\n",
    "#load your activation map to \"map\" struct, extract its value and index to \"opt\" struct:  \n",
    "#opt.setvalue.idx = find(tstat3d_th); opt.setvalue.val = tstat3d_th(find(tstat3d_th));\n",
    "#no interpolation\n",
    "#opt.useinterp = 0;\n",
    "# keep actual ratio of the volume\n",
    "#opt.usestretch = 0;\n",
    "# Plot activation map with background image by command:\n",
    "img = nib.Nifti1Image(tstat3d, np.eye(4),header=nii_fmri.header)\n",
    "nib.save(img,'fmri/testmap.nii')\n",
    "\n",
    "\n",
    "my_widget = NiftiWidget('fmri/testmap.nii')\n",
    "my_widget.nifti_plotter(plotting_func=nip.plot_stat_map, threshold=1.5,bg_img='fmri/fmri_mean.nii',colorbar=False)"
   ]
  },
  {
   "cell_type": "markdown",
   "metadata": {},
   "source": [
    "<div class=\"alert alert-block alert-info\">\n",
    "On peut considérer que les changements hémodynamiques induits par l’activité neuronale sont étalés sur plusieurs voxels voisins.\n",
    "    </div>"
   ]
  },
  {
   "cell_type": "markdown",
   "metadata": {},
   "source": [
    "<div class=\"alert alert-block alert-warning\">\n",
    "5.5. Décrire une méthode permettant d’augmenter le CNR pour détecter l’activité neuronale (2 lignes max).2pts\n",
    "    </div>"
   ]
  },
  {
   "cell_type": "markdown",
   "metadata": {},
   "source": [
    "<div class=\"alert alert-block alert-success\">\n",
    "    \n",
    "**double click here to add your answer**\n",
    "\n",
    "</div>"
   ]
  },
  {
   "cell_type": "markdown",
   "metadata": {},
   "source": [
    "<div class=\"alert alert-block alert-info\">\n",
    "Le cortex est organisé en régions fonctionnelles , i.e., une zone corticale correspond à une fonction. Par exemple le lobe temporal situé en arrière du cerveau sera responsable de la mémoire, alors que le lobe pariétal sera responsable de l’activité motrice, etc. Historiquement, le «mapping» des fonctions corticales avait commencé avec Wilfried Penfield, au <b>Montreal Neurological Institute</b>. Alors qu’il étudiait des patients épileptiques avec des électrodes implantées, Dr. Penfield a pu identifier la localisation des aires somato-sensorielles. Brodmann a poursuivi ces travaux en proposant un atlas des fonctions du cerveau, encore utilisé aujourd’hui.\n",
    "    </div>"
   ]
  },
  {
   "cell_type": "markdown",
   "metadata": {},
   "source": [
    "<div class=\"alert alert-block alert-warning\">\n",
    "5.6. À partir de la carte statistique disponible dans le fichier: <b>fmri_result_template.png</b> below, retrouver le type de stimulation qui a été utilisé pour cette expérience d’IRM\n",
    "fonctionnelle. Pour cela, utilisez l’atlas interactif de <a href='http://imaging.mrc-cbu.cam.ac.uk/imaging/NeuroanatomyTutorial'>Brodmann</a> , qui relie aire corticale et\n",
    "fonction. Aucun code n’est nécessaire. 2pts\n",
    "    <img src=\"fmri/fmri_result_template.png\" alt=\"fmri_map\">\n",
    "    </div>"
   ]
  },
  {
   "cell_type": "markdown",
   "metadata": {},
   "source": [
    "<div class=\"alert alert-block alert-success\">\n",
    "    \n",
    "**double click here to add your answer**\n",
    "\n",
    "</div>"
   ]
  },
  {
   "cell_type": "markdown",
   "metadata": {},
   "source": [
    "<div class=\"alert alert-block alert-info\">\n",
    "Précédemment, nous avons utilisé une méthode ​temporelle pour identifier la localisation de\n",
    "l’activité neuronale, i.e., basée sur la phase des transitions ON/OFF.\n",
    "</div>\n",
    "<div class=\"alert alert-block alert-warning\">\n",
    "5.7. Décrire une autre façon d’obtenir une carte de l’activité fonctionnelle, utilisant la\n",
    "transformée de Fourier. ​1pts\n",
    "</div>"
   ]
  },
  {
   "cell_type": "markdown",
   "metadata": {},
   "source": [
    "<div class=\"alert alert-block alert-success\">\n",
    "    \n",
    "**double click here to add your answer**\n",
    "\n",
    "</div>"
   ]
  },
  {
   "cell_type": "markdown",
   "metadata": {},
   "source": [
    "## Partie IV : IRM de diffusion"
   ]
  },
  {
   "cell_type": "markdown",
   "metadata": {},
   "source": [
    "<div class=\"alert alert-block alert-info\">\n",
    "    \n",
    "#### 6. Etudes d’images de diffusion <br>\n",
    "Travaillez à présent dans le dossier Diffusion/fantomes_Fibres. Ce dossier comporte les 4\n",
    "données d’une acquisition DTI faite sur un fantôme synthétique . Le fantôme est décrit dans le fichier <a href='Diffusion/fantomes_fibres/fantome_description.pdf'> ici</a>.<br>\n",
    "Les données ont été enregistrées dans le format NIFTI: ​dwi.nii​. Comme les images FMRI il s’agit d’un volume 4D 96x48x1x65. La dimension est de 1 dans la direction Z car il s’agit d’​une seule coupe axiale du fantôme. Nous avons 65 volumes dans la 4e dimension, qui ont été acquis avec différentes directions d’encodage de diffusion.\n",
    "    </div>"
   ]
  },
  {
   "cell_type": "markdown",
   "metadata": {},
   "source": [
    "<div class=\"alert alert-block alert-warning\">\n",
    "6.1 Rappelez brièvement comment est encodée la diffusion en IRM. ​3pts\n",
    "</div>"
   ]
  },
  {
   "cell_type": "markdown",
   "metadata": {},
   "source": [
    "<div class=\"alert alert-block alert-success\">\n",
    "    \n",
    "**double click here to add your answer**\n",
    "\n",
    "</div>"
   ]
  },
  {
   "cell_type": "markdown",
   "metadata": {},
   "source": [
    "<div class=\"alert alert-block alert-warning\">\n",
    "6.2 Charger et affichez le volume avec view_nii. Vous pouvez naviguer entre les différents scans grâce au curseur “scan ID”. Certains volumes présentent beaucoup plus de signal, pour ces volumes l’encodage en diffusion n’a pas été activé. Affichez ​deux volumes ​différents et indiquez par une flèche la direction d’encodage de diffusion (qualitativement), comme l’exemple ci-dessous pour une coupe de cerveau (utilisez powerpoint): ​2pts\n",
    "    </div>"
   ]
  },
  {
   "cell_type": "code",
   "execution_count": null,
   "metadata": {},
   "outputs": [],
   "source": [
    "import math\n",
    "my_widget = NiftiWidget('Diffusion/fantomes_Fibres/dwi.nii')\n",
    "my_widget.nifti_plotter()\n",
    "dwi_nii=nib.load('Diffusion/fantomes_Fibres/dwi.nii')\n",
    "image_dwi=np.array(dwi_nii.dataobj)\n",
    "bvec=np.loadtxt('Diffusion/fantomes_Fibres/bvecs.txt')\n",
    "\n"
   ]
  },
  {
   "cell_type": "markdown",
   "metadata": {},
   "source": [
    "<div class=\"alert alert-block alert-info\">\n",
    "Grâce aux 65 directions ​u acquisent ici, on peut résoudre les 6 inconnues du tenseur de diffusion [D], voxel par voxel. Ce tenseur représente l’ellipsoïde de diffusion, et permet d’indiquer la direction des fibres du tissue dans ce voxel !! (cf cours #2):\n",
    "    <div>"
   ]
  },
  {
   "cell_type": "markdown",
   "metadata": {},
   "source": [
    "<div class=\"alert alert-block alert-warning\">\n",
    "<img src=\"consigne63.png\" alt=\"fmri_map\">\n",
    "    </div>"
   ]
  },
  {
   "cell_type": "markdown",
   "metadata": {},
   "source": [
    "<div class=\"alert alert-block alert-warning\">\n",
    "6.3 <u>Question bonus </u>: <br>​Les 65 directions ​u ​sont dans le fichier bvecs.txt (utilisez load(‘bvecs.txt’)). Ecrivez un script permettant de trouver les 6 inconnus Dxx,Dyy... du tenseur de diffusion voxel par voxel.\n",
    "Indications: \n",
    "<br>1-les lignes nulles de la matrice u correspondent aux images S​b=0<br>\n",
    "2- Dévellopez $\\vec{u}^{T} [D] \\vec{u}$ dans l'equation pour retrouver une équation linéaire de la\n",
    "forme : <br>\n",
    "<center>$y=Hd$</center> <br>\n",
    "avec $d=[Dxx Dyy Dzz Dxy Dxz Dyz]^T$ <br>\n",
    "3- Résoudre cette équation surdéterminée voxel par voxel (voir “pseudo-solution” sur\n",
    "internet)\n",
    "     </div>"
   ]
  },
  {
   "cell_type": "markdown",
   "metadata": {},
   "source": [
    "<div class=\"alert alert-block alert-success\">\n",
    "    \n",
    "**double click here to add your Bonus answer**\n",
    "\n",
    "</div>"
   ]
  },
  {
   "cell_type": "markdown",
   "metadata": {},
   "source": [
    "<div class=\"alert alert-block alert-info\">\n",
    "Nous avons résolu l’équation voxel par voxel. Les éléments du tenseur de diffusion ont été\n",
    "stockés dans la matrice $DxxDyyDzzDxyDxzDyz.nii$. Cette matrice est donc de 4 dimension\n",
    "96x48x1x6 . La 4e dimension correspond au 6 éléments du tenseurs $[Dxx Dyy Dzz Dxy Dxz Dyz]$ \n",
    " (en $mm^2/s$).\n",
    " </div>"
   ]
  },
  {
   "cell_type": "markdown",
   "metadata": {},
   "source": [
    "<div class=\"alert alert-block alert-warning\">\n",
    "6.4 Diagonalisez le tenseur de diffusion voxel par voxel pour trouver le vecteur de diffusion principal $v_p$ , ainsi que le coefficient de diffusion dans cette direction $L_p$ . Affichez\n",
    "une image montrant la direction des fibres pondéré par $L_p$: quiverc($v_p$(:,:,1,2) * $L_p$,\n",
    "$v_p$ (:,:,1,1) * $L_p$). 2pts.<br> \n",
    "     </div>"
   ]
  },
  {
   "cell_type": "code",
   "execution_count": null,
   "metadata": {
    "scrolled": true
   },
   "outputs": [],
   "source": [
    "#%plot inline\n",
    "#%% Compute principal direction\n",
    "imdir=np.zeros((dwi_norm.shape[0],dwi_norm.shape[1],1,3)); \n",
    "imL=np.zeros((dwi_norm.shape[0],dwi_norm.shape[1],1,1)); \n",
    "imD=np.array(nib.load('Diffusion/fantomes_Fibres/DxxDyyDzzDxyDxzDyz.nii').dataobj)\n",
    "\n"
   ]
  },
  {
   "cell_type": "markdown",
   "metadata": {},
   "source": [
    "<div class=\"alert alert-block alert-warning\">\n",
    "Interprétez ​2pts​.\n",
    "    </div>"
   ]
  },
  {
   "cell_type": "markdown",
   "metadata": {},
   "source": [
    "<div class=\"alert alert-block alert-success\">\n",
    "    \n",
    "**double click here to add your answer**\n",
    "\n",
    "</div>"
   ]
  },
  {
   "cell_type": "markdown",
   "metadata": {},
   "source": [
    "<div class=\"alert alert-block alert-warning\">\n",
    "6.5 A quoi correspondent les vecteurs propres et les valeurs propres associées? ​1pt\n",
    "    </div>"
   ]
  },
  {
   "cell_type": "markdown",
   "metadata": {},
   "source": [
    "<div class=\"alert alert-block alert-success\">\n",
    "    \n",
    "**double click here to add your answer**\n",
    "\n",
    "</div>"
   ]
  },
  {
   "cell_type": "markdown",
   "metadata": {},
   "source": [
    "<div class=\"alert alert-block alert-warning\">\n",
    "    6.6 <u>Question bonus</u>: (+5pts!!) Appliquez votre script à la coupe axiale et coronale de\n",
    "    cerveau présent dans le dossier <b>Diffusion/Brain</b>. Ici nous ne vous avons pas fourni\n",
    "$DxxDyyDzzDxyDxzDyz.nii$ (cf 6.3 pour le calculer).Pouvez-vous nommer quelques structures que vous avez mis en évidence?"
   ]
  },
  {
   "cell_type": "code",
   "execution_count": null,
   "metadata": {},
   "outputs": [],
   "source": []
  }
 ],
 "metadata": {
  "kernelspec": {
   "display_name": "Python 3",
   "language": "python",
   "name": "python3"
  },
  "language_info": {
   "codemirror_mode": {
    "name": "ipython",
    "version": 3
   },
   "file_extension": ".py",
   "mimetype": "text/x-python",
   "name": "python",
   "nbconvert_exporter": "python",
   "pygments_lexer": "ipython3",
   "version": "3.6.5"
  }
 },
 "nbformat": 4,
 "nbformat_minor": 2
}
